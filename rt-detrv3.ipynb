{
  "nbformat": 4,
  "nbformat_minor": 0,
  "metadata": {
    "colab": {
      "provenance": []
    },
    "kernelspec": {
      "name": "python3",
      "display_name": "Python 3"
    },
    "language_info": {
      "name": "python"
    }
  },
  "cells": [
    {
      "cell_type": "code",
      "execution_count": 8,
      "metadata": {
        "colab": {
          "base_uri": "https://localhost:8080/"
        },
        "id": "D8C4Be3cBVO_",
        "outputId": "c1d639e5-3394-4cde-e1a1-9f3a28bfcf43"
      },
      "outputs": [
        {
          "output_type": "stream",
          "name": "stdout",
          "text": [
            "Cloning into 'RT-DETRv3'...\n",
            "remote: Enumerating objects: 531, done.\u001b[K\n",
            "remote: Counting objects: 100% (6/6), done.\u001b[K\n",
            "remote: Compressing objects: 100% (6/6), done.\u001b[K\n",
            "remote: Total 531 (delta 2), reused 1 (delta 0), pack-reused 525 (from 2)\u001b[K\n",
            "Receiving objects: 100% (531/531), 6.93 MiB | 12.38 MiB/s, done.\n",
            "Resolving deltas: 100% (116/116), done.\n"
          ]
        }
      ],
      "source": [
        "!git clone  https://github.com/clxia12/RT-DETRv3\n"
      ]
    },
    {
      "cell_type": "code",
      "source": [
        "cd RT-DETRv3/"
      ],
      "metadata": {
        "colab": {
          "base_uri": "https://localhost:8080/"
        },
        "id": "MRsivKNOCcoZ",
        "outputId": "8442a673-351e-4191-d89d-6cd94cf533bf"
      },
      "execution_count": 9,
      "outputs": [
        {
          "output_type": "stream",
          "name": "stdout",
          "text": [
            "/content/RT-DETRv3\n"
          ]
        }
      ]
    },
    {
      "cell_type": "code",
      "source": [
        "!python3 -m pip install -r requirements.txt\n"
      ],
      "metadata": {
        "colab": {
          "base_uri": "https://localhost:8080/"
        },
        "id": "XorLkx6CCfmn",
        "outputId": "bd9c47ed-b413-43cb-9b46-953233b2de64"
      },
      "execution_count": 10,
      "outputs": [
        {
          "output_type": "stream",
          "name": "stdout",
          "text": [
            "Collecting numpy<2.0 (from -r requirements.txt (line 1))\n",
            "  Downloading numpy-1.26.4-cp311-cp311-manylinux_2_17_x86_64.manylinux2014_x86_64.whl.metadata (61 kB)\n",
            "\u001b[?25l     \u001b[90m━━━━━━━━━━━━━━━━━━━━━━━━━━━━━━━━━━━━━━━━\u001b[0m \u001b[32m0.0/61.0 kB\u001b[0m \u001b[31m?\u001b[0m eta \u001b[36m-:--:--\u001b[0m\r\u001b[2K     \u001b[90m━━━━━━━━━━━━━━━━━━━━━━━━━━━━━━━━━━━━━━━━\u001b[0m \u001b[32m61.0/61.0 kB\u001b[0m \u001b[31m2.5 MB/s\u001b[0m eta \u001b[36m0:00:00\u001b[0m\n",
            "\u001b[?25hRequirement already satisfied: tqdm in /usr/local/lib/python3.11/dist-packages (from -r requirements.txt (line 2)) (4.67.1)\n",
            "Requirement already satisfied: typeguard in /usr/local/lib/python3.11/dist-packages (from -r requirements.txt (line 3)) (4.4.2)\n",
            "Collecting visualdl>=2.2.0 (from -r requirements.txt (line 4))\n",
            "  Downloading visualdl-2.5.3-py3-none-any.whl.metadata (25 kB)\n",
            "Collecting opencv-python<=4.6.0 (from -r requirements.txt (line 5))\n",
            "  Downloading opencv_python-4.5.5.64-cp36-abi3-manylinux_2_17_x86_64.manylinux2014_x86_64.whl.metadata (18 kB)\n",
            "Requirement already satisfied: PyYAML in /usr/local/lib/python3.11/dist-packages (from -r requirements.txt (line 6)) (6.0.2)\n",
            "Requirement already satisfied: shapely in /usr/local/lib/python3.11/dist-packages (from -r requirements.txt (line 7)) (2.1.1)\n",
            "Requirement already satisfied: scipy in /usr/local/lib/python3.11/dist-packages (from -r requirements.txt (line 8)) (1.15.3)\n",
            "Collecting terminaltables (from -r requirements.txt (line 9))\n",
            "  Downloading terminaltables-3.1.10-py2.py3-none-any.whl.metadata (3.5 kB)\n",
            "Requirement already satisfied: Cython in /usr/local/lib/python3.11/dist-packages (from -r requirements.txt (line 10)) (3.0.12)\n",
            "Requirement already satisfied: pycocotools in /usr/local/lib/python3.11/dist-packages (from -r requirements.txt (line 11)) (2.0.8)\n",
            "Requirement already satisfied: setuptools in /usr/local/lib/python3.11/dist-packages (from -r requirements.txt (line 12)) (75.2.0)\n",
            "Requirement already satisfied: Pillow in /usr/local/lib/python3.11/dist-packages (from -r requirements.txt (line 13)) (11.2.1)\n",
            "Collecting lapx (from -r requirements.txt (line 16))\n",
            "  Downloading lapx-0.5.11.post1-cp311-cp311-manylinux_2_5_x86_64.manylinux1_x86_64.manylinux_2_17_x86_64.manylinux2014_x86_64.whl.metadata (6.3 kB)\n",
            "Collecting motmetrics (from -r requirements.txt (line 17))\n",
            "  Downloading motmetrics-1.4.0-py3-none-any.whl.metadata (20 kB)\n",
            "Collecting sklearn==0.0 (from -r requirements.txt (line 18))\n",
            "  Downloading sklearn-0.0.tar.gz (1.1 kB)\n",
            "  Preparing metadata (setup.py) ... \u001b[?25l\u001b[?25hdone\n",
            "Collecting pyclipper (from -r requirements.txt (line 21))\n",
            "  Downloading pyclipper-1.3.0.post6-cp311-cp311-manylinux_2_17_x86_64.manylinux2014_x86_64.whl.metadata (9.0 kB)\n",
            "Collecting imgaug>=0.4.0 (from -r requirements.txt (line 24))\n",
            "  Downloading imgaug-0.4.0-py2.py3-none-any.whl.metadata (1.8 kB)\n",
            "Requirement already satisfied: scikit-learn in /usr/local/lib/python3.11/dist-packages (from sklearn==0.0->-r requirements.txt (line 18)) (1.6.1)\n",
            "Requirement already satisfied: typing_extensions>=4.10.0 in /usr/local/lib/python3.11/dist-packages (from typeguard->-r requirements.txt (line 3)) (4.13.2)\n",
            "Collecting bce-python-sdk (from visualdl>=2.2.0->-r requirements.txt (line 4))\n",
            "  Downloading bce_python_sdk-0.9.35-py3-none-any.whl.metadata (416 bytes)\n",
            "Requirement already satisfied: flask>=1.1.1 in /usr/local/lib/python3.11/dist-packages (from visualdl>=2.2.0->-r requirements.txt (line 4)) (3.1.1)\n",
            "Collecting Flask-Babel>=3.0.0 (from visualdl>=2.2.0->-r requirements.txt (line 4))\n",
            "  Downloading flask_babel-4.0.0-py3-none-any.whl.metadata (1.9 kB)\n",
            "Requirement already satisfied: protobuf>=3.20.0 in /usr/local/lib/python3.11/dist-packages (from visualdl>=2.2.0->-r requirements.txt (line 4)) (5.29.5)\n",
            "Requirement already satisfied: requests in /usr/local/lib/python3.11/dist-packages (from visualdl>=2.2.0->-r requirements.txt (line 4)) (2.32.3)\n",
            "Requirement already satisfied: six>=1.14.0 in /usr/local/lib/python3.11/dist-packages (from visualdl>=2.2.0->-r requirements.txt (line 4)) (1.17.0)\n",
            "Requirement already satisfied: matplotlib in /usr/local/lib/python3.11/dist-packages (from visualdl>=2.2.0->-r requirements.txt (line 4)) (3.10.0)\n",
            "Requirement already satisfied: pandas in /usr/local/lib/python3.11/dist-packages (from visualdl>=2.2.0->-r requirements.txt (line 4)) (2.2.2)\n",
            "Requirement already satisfied: packaging in /usr/local/lib/python3.11/dist-packages (from visualdl>=2.2.0->-r requirements.txt (line 4)) (24.2)\n",
            "Collecting rarfile (from visualdl>=2.2.0->-r requirements.txt (line 4))\n",
            "  Downloading rarfile-4.2-py3-none-any.whl.metadata (4.4 kB)\n",
            "Requirement already satisfied: psutil in /usr/local/lib/python3.11/dist-packages (from visualdl>=2.2.0->-r requirements.txt (line 4)) (5.9.5)\n",
            "Collecting xmltodict>=0.12.0 (from motmetrics->-r requirements.txt (line 17))\n",
            "  Downloading xmltodict-0.14.2-py2.py3-none-any.whl.metadata (8.0 kB)\n",
            "Requirement already satisfied: scikit-image>=0.14.2 in /usr/local/lib/python3.11/dist-packages (from imgaug>=0.4.0->-r requirements.txt (line 24)) (0.25.2)\n",
            "Requirement already satisfied: imageio in /usr/local/lib/python3.11/dist-packages (from imgaug>=0.4.0->-r requirements.txt (line 24)) (2.37.0)\n",
            "Requirement already satisfied: blinker>=1.9.0 in /usr/local/lib/python3.11/dist-packages (from flask>=1.1.1->visualdl>=2.2.0->-r requirements.txt (line 4)) (1.9.0)\n",
            "Requirement already satisfied: click>=8.1.3 in /usr/local/lib/python3.11/dist-packages (from flask>=1.1.1->visualdl>=2.2.0->-r requirements.txt (line 4)) (8.2.1)\n",
            "Requirement already satisfied: itsdangerous>=2.2.0 in /usr/local/lib/python3.11/dist-packages (from flask>=1.1.1->visualdl>=2.2.0->-r requirements.txt (line 4)) (2.2.0)\n",
            "Requirement already satisfied: jinja2>=3.1.2 in /usr/local/lib/python3.11/dist-packages (from flask>=1.1.1->visualdl>=2.2.0->-r requirements.txt (line 4)) (3.1.6)\n",
            "Requirement already satisfied: markupsafe>=2.1.1 in /usr/local/lib/python3.11/dist-packages (from flask>=1.1.1->visualdl>=2.2.0->-r requirements.txt (line 4)) (3.0.2)\n",
            "Requirement already satisfied: werkzeug>=3.1.0 in /usr/local/lib/python3.11/dist-packages (from flask>=1.1.1->visualdl>=2.2.0->-r requirements.txt (line 4)) (3.1.3)\n",
            "Requirement already satisfied: Babel>=2.12 in /usr/local/lib/python3.11/dist-packages (from Flask-Babel>=3.0.0->visualdl>=2.2.0->-r requirements.txt (line 4)) (2.17.0)\n",
            "Requirement already satisfied: pytz>=2022.7 in /usr/local/lib/python3.11/dist-packages (from Flask-Babel>=3.0.0->visualdl>=2.2.0->-r requirements.txt (line 4)) (2025.2)\n",
            "Requirement already satisfied: contourpy>=1.0.1 in /usr/local/lib/python3.11/dist-packages (from matplotlib->visualdl>=2.2.0->-r requirements.txt (line 4)) (1.3.2)\n",
            "Requirement already satisfied: cycler>=0.10 in /usr/local/lib/python3.11/dist-packages (from matplotlib->visualdl>=2.2.0->-r requirements.txt (line 4)) (0.12.1)\n",
            "Requirement already satisfied: fonttools>=4.22.0 in /usr/local/lib/python3.11/dist-packages (from matplotlib->visualdl>=2.2.0->-r requirements.txt (line 4)) (4.58.1)\n",
            "Requirement already satisfied: kiwisolver>=1.3.1 in /usr/local/lib/python3.11/dist-packages (from matplotlib->visualdl>=2.2.0->-r requirements.txt (line 4)) (1.4.8)\n",
            "Requirement already satisfied: pyparsing>=2.3.1 in /usr/local/lib/python3.11/dist-packages (from matplotlib->visualdl>=2.2.0->-r requirements.txt (line 4)) (3.2.3)\n",
            "Requirement already satisfied: python-dateutil>=2.7 in /usr/local/lib/python3.11/dist-packages (from matplotlib->visualdl>=2.2.0->-r requirements.txt (line 4)) (2.9.0.post0)\n",
            "Requirement already satisfied: tzdata>=2022.7 in /usr/local/lib/python3.11/dist-packages (from pandas->visualdl>=2.2.0->-r requirements.txt (line 4)) (2025.2)\n",
            "Requirement already satisfied: networkx>=3.0 in /usr/local/lib/python3.11/dist-packages (from scikit-image>=0.14.2->imgaug>=0.4.0->-r requirements.txt (line 24)) (3.5)\n",
            "Requirement already satisfied: tifffile>=2022.8.12 in /usr/local/lib/python3.11/dist-packages (from scikit-image>=0.14.2->imgaug>=0.4.0->-r requirements.txt (line 24)) (2025.5.26)\n",
            "Requirement already satisfied: lazy-loader>=0.4 in /usr/local/lib/python3.11/dist-packages (from scikit-image>=0.14.2->imgaug>=0.4.0->-r requirements.txt (line 24)) (0.4)\n",
            "Collecting pycryptodome>=3.8.0 (from bce-python-sdk->visualdl>=2.2.0->-r requirements.txt (line 4))\n",
            "  Downloading pycryptodome-3.23.0-cp37-abi3-manylinux_2_17_x86_64.manylinux2014_x86_64.whl.metadata (3.4 kB)\n",
            "Requirement already satisfied: future>=0.6.0 in /usr/local/lib/python3.11/dist-packages (from bce-python-sdk->visualdl>=2.2.0->-r requirements.txt (line 4)) (1.0.0)\n",
            "Requirement already satisfied: charset-normalizer<4,>=2 in /usr/local/lib/python3.11/dist-packages (from requests->visualdl>=2.2.0->-r requirements.txt (line 4)) (3.4.2)\n",
            "Requirement already satisfied: idna<4,>=2.5 in /usr/local/lib/python3.11/dist-packages (from requests->visualdl>=2.2.0->-r requirements.txt (line 4)) (3.10)\n",
            "Requirement already satisfied: urllib3<3,>=1.21.1 in /usr/local/lib/python3.11/dist-packages (from requests->visualdl>=2.2.0->-r requirements.txt (line 4)) (2.4.0)\n",
            "Requirement already satisfied: certifi>=2017.4.17 in /usr/local/lib/python3.11/dist-packages (from requests->visualdl>=2.2.0->-r requirements.txt (line 4)) (2025.4.26)\n",
            "Requirement already satisfied: joblib>=1.2.0 in /usr/local/lib/python3.11/dist-packages (from scikit-learn->sklearn==0.0->-r requirements.txt (line 18)) (1.5.1)\n",
            "Requirement already satisfied: threadpoolctl>=3.1.0 in /usr/local/lib/python3.11/dist-packages (from scikit-learn->sklearn==0.0->-r requirements.txt (line 18)) (3.6.0)\n",
            "Downloading numpy-1.26.4-cp311-cp311-manylinux_2_17_x86_64.manylinux2014_x86_64.whl (18.3 MB)\n",
            "\u001b[2K   \u001b[90m━━━━━━━━━━━━━━━━━━━━━━━━━━━━━━━━━━━━━━━━\u001b[0m \u001b[32m18.3/18.3 MB\u001b[0m \u001b[31m92.4 MB/s\u001b[0m eta \u001b[36m0:00:00\u001b[0m\n",
            "\u001b[?25hDownloading visualdl-2.5.3-py3-none-any.whl (6.3 MB)\n",
            "\u001b[2K   \u001b[90m━━━━━━━━━━━━━━━━━━━━━━━━━━━━━━━━━━━━━━━━\u001b[0m \u001b[32m6.3/6.3 MB\u001b[0m \u001b[31m88.7 MB/s\u001b[0m eta \u001b[36m0:00:00\u001b[0m\n",
            "\u001b[?25hDownloading opencv_python-4.5.5.64-cp36-abi3-manylinux_2_17_x86_64.manylinux2014_x86_64.whl (60.5 MB)\n",
            "\u001b[2K   \u001b[90m━━━━━━━━━━━━━━━━━━━━━━━━━━━━━━━━━━━━━━━━\u001b[0m \u001b[32m60.5/60.5 MB\u001b[0m \u001b[31m12.0 MB/s\u001b[0m eta \u001b[36m0:00:00\u001b[0m\n",
            "\u001b[?25hDownloading terminaltables-3.1.10-py2.py3-none-any.whl (15 kB)\n",
            "Downloading lapx-0.5.11.post1-cp311-cp311-manylinux_2_5_x86_64.manylinux1_x86_64.manylinux_2_17_x86_64.manylinux2014_x86_64.whl (1.7 MB)\n",
            "\u001b[2K   \u001b[90m━━━━━━━━━━━━━━━━━━━━━━━━━━━━━━━━━━━━━━━━\u001b[0m \u001b[32m1.7/1.7 MB\u001b[0m \u001b[31m53.7 MB/s\u001b[0m eta \u001b[36m0:00:00\u001b[0m\n",
            "\u001b[?25hDownloading motmetrics-1.4.0-py3-none-any.whl (161 kB)\n",
            "\u001b[2K   \u001b[90m━━━━━━━━━━━━━━━━━━━━━━━━━━━━━━━━━━━━━━━━\u001b[0m \u001b[32m161.5/161.5 kB\u001b[0m \u001b[31m12.3 MB/s\u001b[0m eta \u001b[36m0:00:00\u001b[0m\n",
            "\u001b[?25hDownloading pyclipper-1.3.0.post6-cp311-cp311-manylinux_2_17_x86_64.manylinux2014_x86_64.whl (969 kB)\n",
            "\u001b[2K   \u001b[90m━━━━━━━━━━━━━━━━━━━━━━━━━━━━━━━━━━━━━━━━\u001b[0m \u001b[32m969.6/969.6 kB\u001b[0m \u001b[31m41.4 MB/s\u001b[0m eta \u001b[36m0:00:00\u001b[0m\n",
            "\u001b[?25hDownloading imgaug-0.4.0-py2.py3-none-any.whl (948 kB)\n",
            "\u001b[2K   \u001b[90m━━━━━━━━━━━━━━━━━━━━━━━━━━━━━━━━━━━━━━━━\u001b[0m \u001b[32m948.0/948.0 kB\u001b[0m \u001b[31m40.8 MB/s\u001b[0m eta \u001b[36m0:00:00\u001b[0m\n",
            "\u001b[?25hDownloading flask_babel-4.0.0-py3-none-any.whl (9.6 kB)\n",
            "Downloading xmltodict-0.14.2-py2.py3-none-any.whl (10.0 kB)\n",
            "Downloading bce_python_sdk-0.9.35-py3-none-any.whl (344 kB)\n",
            "\u001b[2K   \u001b[90m━━━━━━━━━━━━━━━━━━━━━━━━━━━━━━━━━━━━━━━━\u001b[0m \u001b[32m344.8/344.8 kB\u001b[0m \u001b[31m23.7 MB/s\u001b[0m eta \u001b[36m0:00:00\u001b[0m\n",
            "\u001b[?25hDownloading rarfile-4.2-py3-none-any.whl (29 kB)\n",
            "Downloading pycryptodome-3.23.0-cp37-abi3-manylinux_2_17_x86_64.manylinux2014_x86_64.whl (2.3 MB)\n",
            "\u001b[2K   \u001b[90m━━━━━━━━━━━━━━━━━━━━━━━━━━━━━━━━━━━━━━━━\u001b[0m \u001b[32m2.3/2.3 MB\u001b[0m \u001b[31m61.0 MB/s\u001b[0m eta \u001b[36m0:00:00\u001b[0m\n",
            "\u001b[?25hBuilding wheels for collected packages: sklearn\n",
            "  Building wheel for sklearn (setup.py) ... \u001b[?25l\u001b[?25hdone\n",
            "  Created wheel for sklearn: filename=sklearn-0.0-py2.py3-none-any.whl size=1302 sha256=8391d12d6d9442257c66d3371a4a84dd1e8a4ba73b4db03fd11d9030b4f45099\n",
            "  Stored in directory: /root/.cache/pip/wheels/f0/c8/5e/d8ffba9c1c0398e9ab1e97b2b237b46e614033b514b7f7e92a\n",
            "Successfully built sklearn\n",
            "Installing collected packages: pyclipper, xmltodict, terminaltables, rarfile, pycryptodome, numpy, opencv-python, lapx, bce-python-sdk, motmetrics, Flask-Babel, visualdl, sklearn, imgaug\n",
            "  Attempting uninstall: numpy\n",
            "    Found existing installation: numpy 2.0.2\n",
            "    Uninstalling numpy-2.0.2:\n",
            "      Successfully uninstalled numpy-2.0.2\n",
            "  Attempting uninstall: opencv-python\n",
            "    Found existing installation: opencv-python 4.11.0.86\n",
            "    Uninstalling opencv-python-4.11.0.86:\n",
            "      Successfully uninstalled opencv-python-4.11.0.86\n",
            "\u001b[31mERROR: pip's dependency resolver does not currently take into account all the packages that are installed. This behaviour is the source of the following dependency conflicts.\n",
            "thinc 8.3.6 requires numpy<3.0.0,>=2.0.0, but you have numpy 1.26.4 which is incompatible.\u001b[0m\u001b[31m\n",
            "\u001b[0mSuccessfully installed Flask-Babel-4.0.0 bce-python-sdk-0.9.35 imgaug-0.4.0 lapx-0.5.11.post1 motmetrics-1.4.0 numpy-1.26.4 opencv-python-4.5.5.64 pyclipper-1.3.0.post6 pycryptodome-3.23.0 rarfile-4.2 sklearn-0.0 terminaltables-3.1.10 visualdl-2.5.3 xmltodict-0.14.2\n"
          ]
        }
      ]
    },
    {
      "cell_type": "code",
      "source": [
        "!python3 -m pip install paddlepaddle -i https://pypi.tuna.tsinghua.edu.cn/simple\n"
      ],
      "metadata": {
        "colab": {
          "base_uri": "https://localhost:8080/"
        },
        "id": "ESQdMuRXDdlw",
        "outputId": "1ba95e74-86b2-4d55-c234-f8ee2fcbc70b"
      },
      "execution_count": 19,
      "outputs": [
        {
          "output_type": "stream",
          "name": "stdout",
          "text": [
            "Looking in indexes: https://pypi.tuna.tsinghua.edu.cn/simple\n",
            "Collecting paddlepaddle\n",
            "  Downloading https://pypi.tuna.tsinghua.edu.cn/packages/8b/ff/a8685638b8ddd1af3a43f25a2b8f05263a1bec808db990177c38c6228738/paddlepaddle-3.0.0-cp311-cp311-manylinux1_x86_64.whl (192.8 MB)\n",
            "\u001b[2K     \u001b[90m━━━━━━━━━━━━━━━━━━━━━━━━━━━━━━━━━━━━━━━\u001b[0m \u001b[32m192.8/192.8 MB\u001b[0m \u001b[31m4.3 MB/s\u001b[0m eta \u001b[36m0:00:00\u001b[0m\n",
            "\u001b[?25hRequirement already satisfied: httpx in /usr/local/lib/python3.11/dist-packages (from paddlepaddle) (0.28.1)\n",
            "Requirement already satisfied: numpy>=1.21 in /usr/local/lib/python3.11/dist-packages (from paddlepaddle) (1.26.4)\n",
            "Requirement already satisfied: protobuf>=3.20.2 in /usr/local/lib/python3.11/dist-packages (from paddlepaddle) (5.29.5)\n",
            "Requirement already satisfied: Pillow in /usr/local/lib/python3.11/dist-packages (from paddlepaddle) (11.2.1)\n",
            "Requirement already satisfied: decorator in /usr/local/lib/python3.11/dist-packages (from paddlepaddle) (4.4.2)\n",
            "Collecting astor (from paddlepaddle)\n",
            "  Downloading https://pypi.tuna.tsinghua.edu.cn/packages/c3/88/97eef84f48fa04fbd6750e62dcceafba6c63c81b7ac1420856c8dcc0a3f9/astor-0.8.1-py2.py3-none-any.whl (27 kB)\n",
            "Collecting opt_einsum==3.3.0 (from paddlepaddle)\n",
            "  Downloading https://pypi.tuna.tsinghua.edu.cn/packages/bc/19/404708a7e54ad2798907210462fd950c3442ea51acc8790f3da48d2bee8b/opt_einsum-3.3.0-py3-none-any.whl (65 kB)\n",
            "\u001b[2K     \u001b[90m━━━━━━━━━━━━━━━━━━━━━━━━━━━━━━━━━━━━━━━━\u001b[0m \u001b[32m65.5/65.5 kB\u001b[0m \u001b[31m6.1 MB/s\u001b[0m eta \u001b[36m0:00:00\u001b[0m\n",
            "\u001b[?25hRequirement already satisfied: networkx in /usr/local/lib/python3.11/dist-packages (from paddlepaddle) (3.5)\n",
            "Requirement already satisfied: typing_extensions in /usr/local/lib/python3.11/dist-packages (from paddlepaddle) (4.13.2)\n",
            "Requirement already satisfied: anyio in /usr/local/lib/python3.11/dist-packages (from httpx->paddlepaddle) (4.9.0)\n",
            "Requirement already satisfied: certifi in /usr/local/lib/python3.11/dist-packages (from httpx->paddlepaddle) (2025.4.26)\n",
            "Requirement already satisfied: httpcore==1.* in /usr/local/lib/python3.11/dist-packages (from httpx->paddlepaddle) (1.0.9)\n",
            "Requirement already satisfied: idna in /usr/local/lib/python3.11/dist-packages (from httpx->paddlepaddle) (3.10)\n",
            "Requirement already satisfied: h11>=0.16 in /usr/local/lib/python3.11/dist-packages (from httpcore==1.*->httpx->paddlepaddle) (0.16.0)\n",
            "Requirement already satisfied: sniffio>=1.1 in /usr/local/lib/python3.11/dist-packages (from anyio->httpx->paddlepaddle) (1.3.1)\n",
            "Installing collected packages: opt_einsum, astor, paddlepaddle\n",
            "  Attempting uninstall: opt_einsum\n",
            "    Found existing installation: opt_einsum 3.4.0\n",
            "    Uninstalling opt_einsum-3.4.0:\n",
            "      Successfully uninstalled opt_einsum-3.4.0\n",
            "Successfully installed astor-0.8.1 opt_einsum-3.3.0 paddlepaddle-3.0.0\n"
          ]
        }
      ]
    },
    {
      "cell_type": "code",
      "source": [
        "!python3 dataset/coco/download_coco.py"
      ],
      "metadata": {
        "colab": {
          "base_uri": "https://localhost:8080/"
        },
        "id": "qjnA6arDFgwY",
        "outputId": "abc55422-ecd7-4d35-84fb-72b5f00c95ad"
      },
      "execution_count": 20,
      "outputs": [
        {
          "output_type": "stream",
          "name": "stdout",
          "text": [
            "/usr/local/lib/python3.11/dist-packages/paddle/utils/cpp_extension/extension_utils.py:711: UserWarning: No ccache found. Please be aware that recompiling all source files may be required. You can download and install ccache from: https://github.com/ccache/ccache/blob/master/doc/INSTALL.md\n",
            "  warnings.warn(warning_message)\n",
            "/content/RT-DETRv3/ppdet/modeling/losses/detr_loss.py:341: SyntaxWarning: assertion is always true, perhaps remove parentheses?\n",
            "  assert (masks is not None and gt_mask is not None,\n",
            "/content/RT-DETRv3/ppdet/modeling/transformers/matchers.py:136: SyntaxWarning: assertion is always true, perhaps remove parentheses?\n",
            "  assert (masks is not None and gt_mask is not None,\n",
            "Warning: import ppdet from source directory without installing, run 'python setup.py install' to install ppdet firstly\n",
            "[06/04 22:36:28] ppdet.utils.download INFO: Downloading train2017.zip from http://images.cocodataset.org/zips/train2017.zip\n",
            "100% 18883655/18883655 [05:33<00:00, 56657.92KB/s]\n",
            "[06/04 22:43:20] ppdet.utils.download INFO: Decompressing /content/RT-DETRv3/dataset/coco/train2017.zip...\n",
            "[06/04 22:46:15] ppdet.utils.download INFO: Downloading val2017.zip from http://images.cocodataset.org/zips/val2017.zip\n",
            "100% 796471/796471 [00:18<00:00, 43945.21KB/s]\n",
            "[06/04 22:46:36] ppdet.utils.download INFO: Decompressing /content/RT-DETRv3/dataset/coco/val2017.zip...\n",
            "[06/04 22:46:44] ppdet.utils.download INFO: Downloading annotations_trainval2017.zip from http://images.cocodataset.org/annotations/annotations_trainval2017.zip\n",
            "100% 246981/246981 [00:04<00:00, 58029.65KB/s]\n",
            "[06/04 22:46:49] ppdet.utils.download INFO: Decompressing /content/RT-DETRv3/dataset/coco/annotations_trainval2017.zip...\n"
          ]
        }
      ]
    },
    {
      "cell_type": "code",
      "source": [
        "# training on single-GPU\n",
        "!export CUDA_VISIBLE_DEVICES=1"
      ],
      "metadata": {
        "id": "0G43Lc87NePL"
      },
      "execution_count": 34,
      "outputs": []
    },
    {
      "cell_type": "code",
      "source": [
        "\n",
        "!python3 tools/train.py -c configs/rtdetrv3/rtdetrv3_r18vd_6x_coco.yml --eval"
      ],
      "metadata": {
        "colab": {
          "base_uri": "https://localhost:8080/"
        },
        "id": "uXvdFb9DN-_R",
        "outputId": "0d7b6b6a-5b82-4297-c497-ced49c7f76d4"
      },
      "execution_count": 42,
      "outputs": [
        {
          "output_type": "stream",
          "name": "stdout",
          "text": [
            "Warning: import ppdet from source directory without installing, run 'python setup.py install' to install ppdet firstly\n",
            "Traceback (most recent call last):\n",
            "  File \"/content/RT-DETRv3/tools/train.py\", line 212, in <module>\n",
            "    main()\n",
            "  File \"/content/RT-DETRv3/tools/train.py\", line 186, in main\n",
            "    place = paddle.set_device('gpu')\n",
            "            ^^^^^^^^^^^^^^^^^^^^^^^^\n",
            "  File \"/usr/local/lib/python3.11/dist-packages/paddle/device/__init__.py\", line 311, in set_device\n",
            "    place = _convert_to_place(device)\n",
            "            ^^^^^^^^^^^^^^^^^^^^^^^^^\n",
            "  File \"/usr/local/lib/python3.11/dist-packages/paddle/device/__init__.py\", line 213, in _convert_to_place\n",
            "    raise ValueError(\n",
            "ValueError: The device should not be 'gpu', since PaddlePaddle is not compiled with CUDA\n"
          ]
        }
      ]
    }
  ]
}